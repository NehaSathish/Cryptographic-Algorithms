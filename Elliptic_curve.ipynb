{
  "cells": [
    {
      "cell_type": "code",
      "execution_count": null,
      "metadata": {
        "id": "EbpOW6g7zgqz",
        "outputId": "2e46d2c2-039e-4eff-fb62-b566f618e626"
      },
      "outputs": [
        {
          "name": "stdout",
          "output_type": "stream",
          "text": [
            "[0, 1, 4, 9, 3, 12, 10, 10, 12, 3, 9, 4, 1]\n",
            "[1, 3, 11, 5, 4, 1, 2, 0, 1, 11, 10, 4, 12]\n"
          ]
        }
      ],
      "source": [
        "import numpy as np\n",
        "\n",
        "x = 4\n",
        "y = 1\n",
        "p = 13\n",
        "r = 5\n",
        "a = 1\n",
        "b = 1\n",
        "y_tab = []\n",
        "x_tab = []\n",
        "\n",
        "for i in range(p):\n",
        "    y_tab.append((i**2) % p )\n",
        "    \n",
        "print(y_tab)\n",
        "for i in range(p):\n",
        "    val = ((i**3 % p) + ((a*i) % p) + b) % p\n",
        "    x_tab.append(val)\n",
        "print(x_tab)"
      ]
    },
    {
      "cell_type": "code",
      "execution_count": null,
      "metadata": {
        "id": "cca1fGMKzgq1",
        "outputId": "58910554-e7da-46a6-9e8b-0a9bc68fe8d1"
      },
      "outputs": [
        {
          "data": {
            "text/plain": [
              "[(inf, inf),\n",
              " (0, 1),\n",
              " (0, 12),\n",
              " (1, 4),\n",
              " (1, 9),\n",
              " (4, 2),\n",
              " (4, 11),\n",
              " (5, 1),\n",
              " (5, 12),\n",
              " (7, 0),\n",
              " (8, 1),\n",
              " (8, 12),\n",
              " (10, 6),\n",
              " (10, 7),\n",
              " (11, 2),\n",
              " (11, 11),\n",
              " (12, 5),\n",
              " (12, 8)]"
            ]
          },
          "execution_count": 39,
          "metadata": {},
          "output_type": "execute_result"
        }
      ],
      "source": [
        "points = [] #stores all the points of the elliptic curve  y**2 = x**3 + ax + b\n",
        "points.append((np.inf, np.inf)) # (np.inf, np.inf) - point at infinity\n",
        "for x in range(p):\n",
        "    val_x = x_tab[x]\n",
        "    for y in range(p):\n",
        "        val_y = y_tab[y]\n",
        "        if (val_y == val_x):\n",
        "            points.append((x,y))\n",
        "\n",
        "points"
      ]
    },
    {
      "cell_type": "code",
      "execution_count": null,
      "metadata": {
        "id": "vXVc8gL1zgq6",
        "outputId": "c8cf0dc7-6495-4126-b657-05b7a42ce76c"
      },
      "outputs": [
        {
          "data": {
            "text/plain": [
              "[[0, 0, 0, 0, 0, 0, 0, 0, 0, 0, 0, 0, 0, 0, 0, 0, 0, 0],\n",
              " [0, 0, 0, 0, 0, 0, 0, 0, 0, 0, 0, 0, 0, 0, 0, 0, 0, 0],\n",
              " [0, 0, 0, 0, 0, 0, 0, 0, 0, 0, 0, 0, 0, 0, 0, 0, 0, 0],\n",
              " [0, 0, 0, 0, 0, 0, 0, 0, 0, 0, 0, 0, 0, 0, 0, 0, 0, 0],\n",
              " [0, 0, 0, 0, 0, 0, 0, 0, 0, 0, 0, 0, 0, 0, 0, 0, 0, 0],\n",
              " [0, 0, 0, 0, 0, 0, 0, 0, 0, 0, 0, 0, 0, 0, 0, 0, 0, 0],\n",
              " [0, 0, 0, 0, 0, 0, 0, 0, 0, 0, 0, 0, 0, 0, 0, 0, 0, 0],\n",
              " [0, 0, 0, 0, 0, 0, 0, 0, 0, 0, 0, 0, 0, 0, 0, 0, 0, 0],\n",
              " [0, 0, 0, 0, 0, 0, 0, 0, 0, 0, 0, 0, 0, 0, 0, 0, 0, 0],\n",
              " [0, 0, 0, 0, 0, 0, 0, 0, 0, 0, 0, 0, 0, 0, 0, 0, 0, 0],\n",
              " [0, 0, 0, 0, 0, 0, 0, 0, 0, 0, 0, 0, 0, 0, 0, 0, 0, 0],\n",
              " [0, 0, 0, 0, 0, 0, 0, 0, 0, 0, 0, 0, 0, 0, 0, 0, 0, 0],\n",
              " [0, 0, 0, 0, 0, 0, 0, 0, 0, 0, 0, 0, 0, 0, 0, 0, 0, 0],\n",
              " [0, 0, 0, 0, 0, 0, 0, 0, 0, 0, 0, 0, 0, 0, 0, 0, 0, 0],\n",
              " [0, 0, 0, 0, 0, 0, 0, 0, 0, 0, 0, 0, 0, 0, 0, 0, 0, 0],\n",
              " [0, 0, 0, 0, 0, 0, 0, 0, 0, 0, 0, 0, 0, 0, 0, 0, 0, 0],\n",
              " [0, 0, 0, 0, 0, 0, 0, 0, 0, 0, 0, 0, 0, 0, 0, 0, 0, 0],\n",
              " [0, 0, 0, 0, 0, 0, 0, 0, 0, 0, 0, 0, 0, 0, 0, 0, 0, 0]]"
            ]
          },
          "execution_count": 19,
          "metadata": {},
          "output_type": "execute_result"
        }
      ],
      "source": [
        "table = [[0 for i in range(len(points))] for j in range(len(points))]\n",
        "table"
      ]
    },
    {
      "cell_type": "code",
      "execution_count": null,
      "metadata": {
        "id": "7i3gloAvzgq7"
      },
      "outputs": [],
      "source": [
        "def modInverse(a): \n",
        "    m=p\n",
        "    a = a % m \n",
        "    for x in range(1, m): \n",
        "        if ((a * x) % m == 1): \n",
        "            return x \n",
        "    return 1\n",
        "\n",
        "def point_doubling(i,j): #addition of the same point\n",
        "    x1, y1 = points[i][0], points[i][1]\n",
        "    x2, y2 = points[j][0], points[j][1]\n",
        "    numerator = (3 * (x1 ** 2) % p + a) % p\n",
        "    denominator = (2 * y1) % p\n",
        "    if numerator < 0:\n",
        "        numerator = p + numerator\n",
        "    denominator = modInverse(denominator)\n",
        "    lambda1 = (numerator * denominator) % p \n",
        "    #print(\"Points \",points[i], points[j],\"\\t\", numerator, denominator, lambda1)\n",
        "    x1_inv = p - x1\n",
        "    x3 = ((lambda1**2) % p + (2*x1_inv) % p) % p\n",
        "    x3_inv = p - x3\n",
        "    y1_inv = p - y1\n",
        "    y3 = (lambda1 * (x1 + x3_inv) % p + y1_inv ) % p\n",
        "    return (x3,y3)\n",
        "\n",
        "\n",
        "def point_addition(i,j): #addition of two different points\n",
        "    x1, y1 = points[i][0], points[i][1]\n",
        "    x2, y2 = points[j][0], points[j][1]\n",
        "    numerator = (y2 - y1)\n",
        "    denominator = (x2 - x1)\n",
        "    if denominator == 0:\n",
        "        return (np.inf, np.inf)\n",
        "    if numerator < 0: #additive inverse if numerator is negative\n",
        "        numerator = p + numerator\n",
        "    denominator = modInverse(denominator) #multiplicative inverse\n",
        "    lambda1 = (numerator * denominator) % p \n",
        "    #print(\"Points \",points[i], points[j],\"\\t\", numerator, denominator, lambda1)\n",
        "    x3 = ((lambda1**2 % p) - x1 - x2) % p\n",
        "    x3_inv = p - x3\n",
        "    y3 = (lambda1 * ((x1 + x3_inv) % p) % p - y1) % p\n",
        "    \n",
        "    return (x3, y3)"
      ]
    },
    {
      "cell_type": "code",
      "execution_count": null,
      "metadata": {
        "id": "OAJrJ_7Hzgq8"
      },
      "outputs": [],
      "source": [
        "for i in range(len(points)):\n",
        "    if points[i] == (np.inf, np.inf):\n",
        "        for j in range(len(points)):\n",
        "            table[i][j] = points[j]\n",
        "    else:\n",
        "        for j in range(len(points)):\n",
        "            if points[i] == points[j]:\n",
        "                (x3, y3) = point_doubling(i,j)\n",
        "                table[i][j] = (x3, y3)\n",
        "                \n",
        "            else:\n",
        "                if points[j] == (np.inf, np.inf):\n",
        "                    table[i][j] = points[i]\n",
        "                    continue\n",
        "                (x3, y3) = point_addition(i,j)\n",
        "                table[i][j] = (x3,y3)"
      ]
    },
    {
      "cell_type": "code",
      "execution_count": null,
      "metadata": {
        "id": "Vh5QzcYvzgq9",
        "outputId": "6b5fd0b1-5448-4ff3-a250-2aafa7f5e55b"
      },
      "outputs": [
        {
          "name": "stdout",
          "output_type": "stream",
          "text": [
            "[(inf, inf), (0, 1), (0, 12), (1, 4), (1, 9), (4, 2), (4, 11), (5, 1), (5, 12), (7, 0), (8, 1), (8, 12), (10, 6), (10, 7), (11, 2), (11, 11), (12, 5), (12, 8)] \n",
            "\n",
            "[(0, 1), (10, 7), (inf, inf), (8, 1), (11, 2), (5, 1), (12, 8), (8, 12), (4, 11), (10, 6), (5, 12), (1, 9), (0, 12), (7, 0), (12, 5), (1, 4), (4, 2), (11, 11)] \n",
            "\n",
            "[(0, 12), (inf, inf), (10, 6), (11, 11), (8, 12), (12, 5), (5, 12), (4, 2), (8, 1), (10, 7), (1, 4), (5, 1), (7, 0), (0, 1), (1, 9), (12, 8), (11, 2), (4, 11)] \n",
            "\n",
            "[(1, 4), (8, 1), (11, 11), (8, 12), (inf, inf), (7, 0), (12, 5), (10, 6), (11, 2), (4, 11), (1, 9), (0, 12), (12, 8), (5, 12), (0, 1), (5, 1), (10, 7), (4, 2)] \n",
            "\n",
            "[(1, 9), (11, 2), (8, 12), (inf, inf), (8, 1), (12, 8), (7, 0), (11, 11), (10, 7), (4, 2), (0, 1), (1, 4), (5, 1), (12, 5), (5, 12), (0, 12), (4, 11), (10, 6)] \n",
            "\n",
            "[(4, 2), (5, 1), (12, 5), (7, 0), (12, 8), (8, 1), (inf, inf), (5, 12), (0, 12), (1, 9), (10, 6), (4, 11), (11, 2), (8, 12), (11, 11), (10, 7), (1, 4), (0, 1)] \n",
            "\n",
            "[(4, 11), (12, 8), (5, 12), (12, 5), (7, 0), (inf, inf), (8, 12), (0, 1), (5, 1), (1, 4), (4, 2), (10, 7), (8, 1), (11, 11), (10, 6), (11, 2), (0, 12), (1, 9)] \n",
            "\n",
            "[(5, 1), (8, 12), (4, 2), (10, 6), (11, 11), (5, 12), (0, 1), (4, 11), (inf, inf), (11, 2), (0, 12), (12, 8), (12, 5), (1, 9), (1, 4), (7, 0), (8, 1), (10, 7)] \n",
            "\n",
            "[(5, 12), (4, 11), (8, 1), (11, 2), (10, 7), (0, 12), (5, 1), (inf, inf), (4, 2), (11, 11), (12, 5), (0, 1), (1, 4), (12, 8), (7, 0), (1, 9), (10, 6), (8, 12)] \n",
            "\n",
            "[(7, 0), (10, 6), (10, 7), (4, 11), (4, 2), (1, 9), (1, 4), (11, 2), (11, 11), (11, 6), (12, 8), (12, 5), (0, 1), (0, 12), (5, 1), (5, 12), (8, 12), (8, 1)] \n",
            "\n",
            "[(8, 1), (5, 12), (1, 4), (1, 9), (0, 1), (10, 6), (4, 2), (0, 12), (12, 5), (12, 8), (11, 2), (inf, inf), (11, 11), (4, 11), (10, 7), (8, 12), (7, 0), (5, 1)] \n",
            "\n",
            "[(8, 12), (1, 9), (5, 1), (0, 12), (1, 4), (4, 11), (10, 7), (12, 8), (0, 1), (12, 5), (inf, inf), (11, 11), (4, 2), (11, 2), (8, 1), (10, 6), (5, 12), (7, 0)] \n",
            "\n",
            "[(10, 6), (0, 12), (7, 0), (12, 8), (5, 1), (11, 2), (8, 1), (12, 5), (1, 4), (0, 1), (11, 11), (4, 2), (10, 7), (inf, inf), (8, 12), (4, 11), (1, 9), (5, 12)] \n",
            "\n",
            "[(10, 7), (7, 0), (0, 1), (5, 12), (12, 5), (8, 12), (11, 11), (1, 9), (12, 8), (0, 12), (4, 11), (11, 2), (inf, inf), (10, 6), (4, 2), (8, 1), (5, 1), (1, 4)] \n",
            "\n",
            "[(11, 2), (12, 5), (1, 9), (0, 1), (5, 12), (11, 11), (10, 6), (1, 4), (7, 0), (5, 1), (10, 7), (8, 1), (8, 12), (4, 2), (4, 11), (inf, inf), (12, 8), (0, 12)] \n",
            "\n",
            "[(11, 11), (1, 4), (12, 8), (5, 1), (0, 12), (10, 7), (11, 2), (7, 0), (1, 9), (5, 12), (8, 12), (10, 6), (4, 11), (8, 1), (inf, inf), (4, 2), (0, 1), (12, 5)] \n",
            "\n",
            "[(12, 5), (4, 2), (11, 2), (10, 7), (4, 11), (1, 4), (0, 12), (8, 1), (10, 6), (8, 12), (7, 0), (5, 12), (1, 9), (5, 1), (12, 8), (0, 1), (11, 11), (inf, inf)] \n",
            "\n",
            "[(12, 8), (11, 11), (4, 11), (4, 2), (10, 6), (0, 1), (1, 9), (10, 7), (8, 12), (8, 1), (5, 1), (7, 0), (5, 12), (1, 4), (0, 12), (12, 5), (inf, inf), (11, 2)] \n",
            "\n"
          ]
        }
      ],
      "source": [
        "for i in range(len(table)):\n",
        "    print(table[i],\"\\n\")"
      ]
    },
    {
      "cell_type": "code",
      "execution_count": null,
      "metadata": {
        "id": "HEpZYZuZzgq9",
        "outputId": "2d8b2efe-5b14-483f-8189-2bac499e47f8"
      },
      "outputs": [
        {
          "data": {
            "text/plain": [
              "[1, 2, 3, 4, 5, 6]"
            ]
          },
          "execution_count": 96,
          "metadata": {},
          "output_type": "execute_result"
        }
      ],
      "source": [
        "#Elgamal Cayley's table\n",
        "\n",
        "# Recursive function to return gcd of a and b \n",
        "def gcd_(a, b): \n",
        "  \n",
        "    # Everything divides 0 \n",
        "    if (a == 0): \n",
        "        return b \n",
        "    if (b == 0): \n",
        "        return a \n",
        "  \n",
        "    # base case \n",
        "    if (a == b): \n",
        "        return a \n",
        "    \n",
        "    # a is greater \n",
        "    if (a > b): \n",
        "        return gcd_(a-b, b) \n",
        "    return gcd_(a, b-a) \n",
        "\n",
        "#Z*p\n",
        "\n",
        "p = 7\n",
        "Z = [1]\n",
        "for i in range(2,p):\n",
        "    gcd = gcd_(i,p)\n",
        "    if gcd == 1:\n",
        "        Z.append(i)\n",
        "Z\n"
      ]
    },
    {
      "cell_type": "code",
      "execution_count": null,
      "metadata": {
        "id": "53s27MHMzgq-",
        "outputId": "9b30cf82-99fc-49a8-9978-c77c35b207ef"
      },
      "outputs": [
        {
          "data": {
            "text/plain": [
              "[[1, 2, 3, 4, 5, 6],\n",
              " [2, 4, 6, 1, 3, 5],\n",
              " [3, 6, 2, 5, 1, 4],\n",
              " [4, 1, 5, 2, 6, 3],\n",
              " [5, 3, 1, 6, 4, 2],\n",
              " [6, 5, 4, 3, 2, 1]]"
            ]
          },
          "execution_count": 97,
          "metadata": {},
          "output_type": "execute_result"
        }
      ],
      "source": [
        "table = [[0 for i in range(len(Z))] for j in range(len(Z))]\n",
        "for i in range(len(Z)):\n",
        "    for j in range(len(Z)):\n",
        "        table[i][j] = (Z[i]*Z[j]) % p\n",
        "table"
      ]
    },
    {
      "cell_type": "code",
      "execution_count": null,
      "metadata": {
        "id": "InBcs8HEzgq_",
        "outputId": "fe0006d2-c8ff-48aa-9c55-8e97f64fe378"
      },
      "outputs": [
        {
          "data": {
            "text/plain": [
              "[[0, 1, 1, 1, 1, 1, 1],\n",
              " [0, 2, 4, 1, 2, 4, 1],\n",
              " [0, 3, 2, 6, 4, 5, 1],\n",
              " [0, 4, 2, 1, 4, 2, 1],\n",
              " [0, 5, 4, 6, 2, 3, 1],\n",
              " [0, 6, 1, 6, 1, 6, 1]]"
            ]
          },
          "execution_count": 103,
          "metadata": {},
          "output_type": "execute_result"
        }
      ],
      "source": [
        "order = [[0 for i in range(p)] for j in range(len(Z))]\n",
        "for i in range(len(Z)):\n",
        "    for j in range(1,p):\n",
        "        order[i][j] = (Z[i] ** j) % p\n",
        "        \n",
        "order"
      ]
    },
    {
      "cell_type": "code",
      "execution_count": null,
      "metadata": {
        "id": "uG2OrpGPzgrC",
        "outputId": "d7d9272a-e0b6-4571-c2be-304be1ac9594"
      },
      "outputs": [
        {
          "name": "stdout",
          "output_type": "stream",
          "text": [
            "Primitive root  3\n",
            "Primitive root  5\n"
          ]
        }
      ],
      "source": [
        "count = 0\n",
        "for i in range(len(order)):\n",
        "    count = 0\n",
        "    for j in range(len(order)):\n",
        "        if(order[i][j] == 1):\n",
        "            count+=1\n",
        "    if(count == 1):\n",
        "        print(\"Primitive root \",Z[i+1])\n"
      ]
    }
  ],
  "metadata": {
    "kernelspec": {
      "display_name": "Python 3",
      "language": "python",
      "name": "python3"
    },
    "language_info": {
      "codemirror_mode": {
        "name": "ipython",
        "version": 3
      },
      "file_extension": ".py",
      "mimetype": "text/x-python",
      "name": "python",
      "nbconvert_exporter": "python",
      "pygments_lexer": "ipython3",
      "version": "3.7.3"
    },
    "colab": {
      "name": "Elliptic curve.ipynb",
      "provenance": []
    }
  },
  "nbformat": 4,
  "nbformat_minor": 0
}