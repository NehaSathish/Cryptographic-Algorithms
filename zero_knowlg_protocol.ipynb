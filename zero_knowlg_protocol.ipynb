{
  "nbformat": 4,
  "nbformat_minor": 0,
  "metadata": {
    "colab": {
      "name": "zero knowlg protocol.ipynb",
      "provenance": [],
      "collapsed_sections": []
    },
    "kernelspec": {
      "name": "python3",
      "display_name": "Python 3"
    }
  },
  "cells": [
    {
      "cell_type": "markdown",
      "metadata": {
        "id": "9ULhL3pIBf-W"
      },
      "source": [
        "helper functions"
      ]
    },
    {
      "cell_type": "code",
      "metadata": {
        "id": "7-mo0ZMjBFtE"
      },
      "source": [
        "\n",
        "\n",
        "import random, re\n",
        "import sympy, math\n",
        "def generatePrime():\n",
        "    p, q = sympy.randprime(2, 20), sympy.randprime(2, 20)\n",
        "    while q == p:\n",
        "        q = sympy.randprime(2, 20)\n",
        "    return p, q\n",
        "\n",
        "def gcd(a, b):\n",
        "    while b != 0:\n",
        "        c = a % b\n",
        "        a = b\n",
        "        b = c\n",
        "    return a\n",
        "\n",
        "def modinv(a, m):\n",
        "    for x in range(1, m):\n",
        "        if (a * x) % m == 1:\n",
        "            return x\n",
        "    return None\n",
        "\n",
        "def coprimes(a,phi):\n",
        "    l = []\n",
        "    for x in range(2, a):\n",
        "        if gcd(a, x) == 1 and modinv(x,phi) != None:\n",
        "            l.append(x)\n",
        "    for x in l:\n",
        "        if x == modinv(x,phi):\n",
        "            l.remove(x)\n",
        "    return l\n"
      ],
      "execution_count": null,
      "outputs": []
    },
    {
      "cell_type": "markdown",
      "metadata": {
        "id": "sCUwZiVZ1EWA"
      },
      "source": [
        "Fiat-Shamir Protocol"
      ]
    },
    {
      "cell_type": "code",
      "metadata": {
        "colab": {
          "base_uri": "https://localhost:8080/",
          "height": 54
        },
        "id": "Ki_cu2BMBnP1",
        "outputId": "247063cd-a9c8-491b-ff18-3e085c5e7658"
      },
      "source": [
        "\n",
        "\n",
        "def fs_claimant():\n",
        "    p,q = generatePrime()\n",
        "    n = p*q\n",
        "    s = random.randint(1,n-1)\n",
        "    v = (s**2)%n\n",
        "    r = random.randint(1,n-1)\n",
        "    x = (r**2)%n\n",
        "    #c = int(input(\"challenge(0 or 1) :\"))\n",
        "    c = random.randint(0,1)\n",
        "    y = (r * s**c)%n\n",
        "    return x,v,c,n,y\n",
        "    \n",
        "def fs_verifier(x,v,c,n,y):\n",
        "    lhs = (y**2)%n\n",
        "    rhs = (x*(v**c))%n\n",
        "    print(lhs)\n",
        "    if lhs == rhs:\n",
        "        return \"correct\"\n",
        "    else:\n",
        "        return \"wrong\"\n",
        "\n",
        "x,v,c,n,y = fs_claimant()       \n",
        "fs_verifier(x,v,c,n,y)"
      ],
      "execution_count": null,
      "outputs": [
        {
          "output_type": "stream",
          "name": "stdout",
          "text": [
            "157\n"
          ]
        },
        {
          "output_type": "execute_result",
          "data": {
            "text/plain": [
              "'correct'"
            ],
            "application/vnd.google.colaboratory.intrinsic+json": {
              "type": "string"
            }
          },
          "metadata": {},
          "execution_count": 2
        }
      ]
    },
    {
      "cell_type": "markdown",
      "metadata": {
        "id": "9_X8O_5H1Mb8"
      },
      "source": [
        "Guillou Quis"
      ]
    },
    {
      "cell_type": "code",
      "metadata": {
        "colab": {
          "base_uri": "https://localhost:8080/"
        },
        "id": "ViTBI5IzoeGp",
        "outputId": "64d62d77-f09a-4ec5-8afb-12369b9c55ba"
      },
      "source": [
        "def gq_claimant():\n",
        "    #p,q = generatePrime() #private\n",
        "    p,q = 11,17\n",
        "    n = p*q  #public\n",
        "    phi=int(p-1)*int(q-1)\n",
        "    co_prime_list = coprimes(int(n),phi)\n",
        "    print(\"List of co-primes\",co_prime_list)\n",
        "    #e=random.choice(co_prime_list) #public\n",
        "    e=13\n",
        "    #s=random.randint(1,n-1)  # private\n",
        "    s=15\n",
        "    v=(modinv(s**e,n))  # public\n",
        "    #r=random.randint(1,n-1)\n",
        "    r=3\n",
        "    x=(r**e)%n\n",
        "    c = int(input(\"challenge(1 to {}) :\".format(e)))\n",
        "    #c=random.randint(1,e)\n",
        "    y=(r*(s**c))%n\n",
        "    return x,v,c,n,y,e\n",
        "\n",
        "def gq_verifier(x,v,c,n,y,e):\n",
        "    ans=((y**e)*(v**c))%n\n",
        "    print(\"ans\",ans)\n",
        "    if x==ans:\n",
        "        print(\"msg crt\")\n",
        "    else:\n",
        "        print(\"wrong msg\")\n",
        "\n",
        "x,v,c,n,y,e = gq_claimant()\n",
        "gq_verifier(x,v,c,n,y,e)"
      ],
      "execution_count": null,
      "outputs": [
        {
          "output_type": "stream",
          "name": "stdout",
          "text": [
            "List of co-primes [3, 7, 9, 13, 19, 21, 23, 27, 29, 37, 39, 41, 43, 47, 53, 57, 59, 61, 63, 67, 69, 71, 73, 81, 83, 87, 89, 91, 93, 97, 101, 103, 107, 109, 113, 117, 123, 127, 131, 133, 137, 139, 141, 147, 149, 151, 157, 161, 163, 167, 169, 171, 173, 177, 179, 181, 183]\n",
            "challenge(1 to 13) :3\n",
            "ans 148\n",
            "msg crt\n"
          ]
        }
      ]
    },
    {
      "cell_type": "markdown",
      "metadata": {
        "id": "oI38dqzN1RzM"
      },
      "source": [
        "Feige-Fiat"
      ]
    },
    {
      "cell_type": "code",
      "metadata": {
        "id": "CK0x83LNpyIK",
        "colab": {
          "base_uri": "https://localhost:8080/"
        },
        "outputId": "0905dd52-699b-4bcd-df6b-0a75c5462f5e"
      },
      "source": [
        "import numpy as np\n",
        "def ff_claimant():\n",
        "    k = 2 #size of vector s and v\n",
        "    #p,q = generatePrime()\n",
        "    p,q = 17,11\n",
        "    n = p*q\n",
        "    co_prime_list = coprimes(int(n),n)\n",
        "    #s = co_prime_list[:k]   #private key\n",
        "    s = [23,19]\n",
        "    v = [(modinv(s[i]**2,n)) for i in range(k)]  #public key\n",
        "    #r = random.randint(1,n-1)\n",
        "    r = 49\n",
        "    x = (r**2)%n\n",
        "    #c = [random.randint(0,1) for i in range(k)] #challenge from verifier\n",
        "    c = [1,0]\n",
        "    y = (r * np.prod([s[i]**c[i] for i in range(k)]))%n\n",
        "    return x,v,c,n,y\n",
        "\n",
        "def ff_verifier(x,v,c,n,y):\n",
        "    ans = (y**2 * np.prod([v[i]**c[i] for i in range(len(c))]))%n\n",
        "    print(\"ans\",ans)\n",
        "\n",
        "    if x == ans:\n",
        "        print(\"msg crt\")\n",
        "    else:\n",
        "        print(\"wrong msg\")\n",
        "\n",
        "x,v,c,n,y = ff_claimant()       \n",
        "ff_verifier(x,v,c,n,y)"
      ],
      "execution_count": null,
      "outputs": [
        {
          "output_type": "stream",
          "name": "stdout",
          "text": [
            "ans 157\n",
            "msg crt\n"
          ]
        }
      ]
    },
    {
      "cell_type": "markdown",
      "metadata": {
        "id": "Pu4IxVN2vFAp"
      },
      "source": [
        "**RSA Digital signature**"
      ]
    },
    {
      "cell_type": "code",
      "metadata": {
        "colab": {
          "base_uri": "https://localhost:8080/"
        },
        "id": "O8DO-nMguXp2",
        "outputId": "187bbb78-0ea5-46b8-fff2-74ce8f5c3aca"
      },
      "source": [
        "\n",
        "# Function to find gcd \n",
        "# of two numbers\n",
        "def euclid(m, n):\n",
        "      \n",
        "    if n == 0:\n",
        "        return m\n",
        "    else:\n",
        "        r = m % n\n",
        "        return euclid(n, r)\n",
        "      \n",
        "      \n",
        "# Program to find \n",
        "# Multiplicative inverse\n",
        "def exteuclid(a, b):\n",
        "      \n",
        "    r1 = a\n",
        "    r2 = b\n",
        "    s1 = int(1)\n",
        "    s2 = int(0)\n",
        "    t1 = int(0)\n",
        "    t2 = int(1)\n",
        "      \n",
        "    while r2 > 0:\n",
        "          \n",
        "        q = r1//r2\n",
        "        r = r1-q * r2\n",
        "        r1 = r2\n",
        "        r2 = r\n",
        "        s = s1-q * s2\n",
        "        s1 = s2\n",
        "        s2 = s\n",
        "        t = t1-q * t2\n",
        "        t1 = t2\n",
        "        t2 = t\n",
        "          \n",
        "    if t1 < 0:\n",
        "        t1 = t1 % a\n",
        "          \n",
        "    return (r1, t1)\n",
        "  \n",
        "# Enter two large prime\n",
        "# numbers p and q\n",
        "p = 1948\n",
        "q = 1931\n",
        "n = p * q\n",
        "Pn = (p-1)*(q-1)\n",
        "d = 23\n",
        "print(\"P \",p,\" Q \",q)\n",
        "print(\"n \",n, \" Phi \",Pn)  \n",
        "print(\"d \",d)\n",
        "# Generate encryption key \n",
        "# in range 1<e<Pn\n",
        "key = []\n",
        "  \n",
        "for i in range(2, Pn):\n",
        "      \n",
        "    gcd = euclid(Pn, i)\n",
        "      \n",
        "    if gcd == 1:\n",
        "        key.append(i)\n",
        "  \n",
        "  \n",
        "# Select an encryption key \n",
        "# from the above list\n",
        "r,e = exteuclid(Pn,d)\n",
        "print(\"E \",e)\n",
        "  \n",
        "# Obtain inverse of \n",
        "# encryption key in Z_Pn\n",
        "#r, d = exteuclid(Pn, e)\n",
        "if r == 1:\n",
        "    e = int(e)\n",
        "    print(\"decryption key is: \", e)\n",
        "      \n",
        "else:\n",
        "    print(\"Multiplicative inverse for\\\n",
        "    the given encryption key does not \\\n",
        "    exist. Choose a different encrytion key \")\n",
        "   \n",
        "   \n",
        "# Enter the message to be sent\n",
        "M = 100\n",
        "  \n",
        "# Signature is created by Alice\n",
        "S = (M**d) % n\n",
        "  \n",
        "# Alice sends M and S both to Bob\n",
        "# Bob generates message M1 using the\n",
        "# signature S, Alice's public key e \n",
        "# and product n.\n",
        "M1 = (S**e) % n\n",
        "# If M = M1 only then Bob accepts\n",
        "# the message sent by Alice.\n",
        "print(\"Message1 \",M,\" Digital Signture \", S,\" Decrypted Message \",M1)  \n",
        "\n",
        "M2 = 50\n",
        "\n",
        "S1 = (M2**d) % n\n",
        "  \n",
        "# Alice sends M and S both to Bob\n",
        "# Bob generates message M1 using the\n",
        "# signature S, Alice's public key e \n",
        "# and product n.\n",
        "M3 = (S1**e) % n\n",
        "print(\"Message1 \",M2,\" Digital Signture \", S1,\" Decrypted Message \",M3) \n",
        "\n",
        "\n",
        "if M == M1:\n",
        "    print(\"As M = M1, Accept the\\\n",
        "    message sent by Alice\")\n",
        "else:\n",
        "    print(\"As M not equal to M1,\\\n",
        "    Do not accept the message\\\n",
        "    sent by Alice \")\n",
        "\n",
        "\n",
        "if M2 == M3:\n",
        "    print(\"As M2 = M3, Accept the\\\n",
        "    message sent by Alice\")\n",
        "else:\n",
        "    print(\"As M2 not equal to M3,\\\n",
        "    Do not accept the message\\\n",
        "    sent by Alice \")\n"
      ],
      "execution_count": null,
      "outputs": [
        {
          "output_type": "stream",
          "name": "stdout",
          "text": [
            "P  1948  Q  1931\n",
            "n  3761588  Phi  3757710\n",
            "d  23\n",
            "E  1633787\n",
            "decryption key is:  1633787\n",
            "Message1  100  Digital Signture  1820456  Decrypted Message  424920\n",
            "Message1  50  Digital Signture  666188  Decrypted Message  2668692\n",
            "As M not equal to M1,    Do not accept the message    sent by Alice \n",
            "As M2 not equal to M3,    Do not accept the message    sent by Alice \n"
          ]
        }
      ]
    },
    {
      "cell_type": "code",
      "metadata": {
        "id": "Q3ahlblju-Sd",
        "colab": {
          "base_uri": "https://localhost:8080/"
        },
        "outputId": "6e283fad-c99c-49f4-fcbc-58eb53ca4d1a"
      },
      "source": [
        "New_M = (M * M2) % n\n",
        "New_S = (S  * S1) % n\n",
        "print(\"M1 * M2 = \", New_M)\n",
        "print(\"S1 * S2 = \", New_S)\n",
        "\n",
        "\n",
        "S_ = (New_M**d) % n\n",
        "M_ = (S_**e) % n\n",
        "print(S_, M_)"
      ],
      "execution_count": null,
      "outputs": [
        {
          "output_type": "stream",
          "name": "stdout",
          "text": [
            "M1 * M2 =  5000\n",
            "S1 * S2 =  3639412\n",
            "3639412 1001396\n"
          ]
        }
      ]
    }
  ]
}